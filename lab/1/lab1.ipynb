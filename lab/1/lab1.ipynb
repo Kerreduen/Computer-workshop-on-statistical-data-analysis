{
 "cells": [
  {
   "cell_type": "code",
   "execution_count": 11,
   "id": "8363b081-ad16-4b9b-a1d0-99b8bfe54523",
   "metadata": {},
   "outputs": [
    {
     "name": "stdout",
     "output_type": "stream",
     "text": [
      "specify the number of columns and rows (separated by a space):\n"
     ]
    },
    {
     "name": "stdin",
     "output_type": "stream",
     "text": [
      "stdin>  3 3\n"
     ]
    },
    {
     "name": "stdout",
     "output_type": "stream",
     "text": [
      "3"
     ]
    }
   ],
   "source": [
    "using Random\n",
    "using DelimitedFiles\n",
    "\n",
    "print(\"specify the number of columns and rows (separated by a space):\\n\") \n",
    "a = split(readline(), ' ')\n",
    "rows, columns = parse(Int, a[1]), parse(Int, a[2])\n",
    "show(rows)\n",
    "file = open(\"data//lab1_data.txt\", \"w\")\n",
    "for r in 1:rows\n",
    "    for c in 1:columns\n",
    "        if c == columns\n",
    "            write(file, string(rand(0:20))*\"\\n\")\n",
    "        else\n",
    "            write(file, string(rand(0:20))*\" \")\n",
    "        end\n",
    "    end\n",
    "end\n",
    "close(file)"
   ]
  },
  {
   "cell_type": "code",
   "execution_count": 12,
   "id": "0e526999-3d8c-4351-bb8c-af71c58b8f3c",
   "metadata": {},
   "outputs": [
    {
     "name": "stdout",
     "output_type": "stream",
     "text": [
      "Выберите способ чтения массива (1->read, 2->readlines, 3->readline):\n"
     ]
    },
    {
     "name": "stdin",
     "output_type": "stream",
     "text": [
      "stdin>  2\n"
     ]
    },
    {
     "name": "stdout",
     "output_type": "stream",
     "text": [
      "IOStream(<file data//lab1_data.txt>)[[1.0, 10.0, 19.0], [18.0, 14.0, 2.0], [15.0, 9.0, 11.0]]"
     ]
    },
    {
     "data": {
      "text/plain": [
       "3×3 Matrix{Float64}:\n",
       "  1.0  18.0  15.0\n",
       " 10.0  14.0   9.0\n",
       " 19.0   2.0  11.0"
      ]
     },
     "execution_count": 12,
     "metadata": {},
     "output_type": "execute_result"
    }
   ],
   "source": [
    "file = open(\"data//lab1_data.txt\", \"r\")\n",
    "println(\"Выберите способ чтения массива (1->read, 2->readlines, 3->readline):\")\n",
    "input = readline()\n",
    "if input == \"1\"\n",
    "    m = [[parse(Float64, el) for el in split(line, ' ')] for line in split(read(file, String), \"\\n\")[1:rows]]\n",
    "elseif input == \"2\"\n",
    "    m = [[parse(Float64, el) for el in split(line, ' ')] for line in readlines(file)]\n",
    "else\n",
    "    m = [[parse(Float64, el) for el in split(readline(file), ' ')] for _ in 1:rows]\n",
    "end\n",
    "show(file)\n",
    "close(file)\n",
    "show(m)\n",
    "massive1 = hcat(m...)"
   ]
  },
  {
   "cell_type": "code",
   "execution_count": 13,
   "id": "c55ac4d4-d3fc-4c61-a23f-7f73505be00d",
   "metadata": {},
   "outputs": [
    {
     "data": {
      "text/plain": [
       "3×3 Matrix{Float64}:\n",
       " 7.0  3.0  9.0\n",
       " 8.0  8.0  7.0\n",
       " 4.0  5.0  5.0"
      ]
     },
     "execution_count": 13,
     "metadata": {},
     "output_type": "execute_result"
    }
   ],
   "source": [
    "x = [rand(1:9, columns) for _ in 1:rows]\n",
    "open(\"data//lab1_dlm.txt\", \"w\") do file2\n",
    "    writedlm(file2, [row for row in x])\n",
    "end\n",
    "massive2 = readdlm(\"data//lab1_dlm.txt\", Float64)"
   ]
  },
  {
   "cell_type": "code",
   "execution_count": 25,
   "id": "29527fb5-326d-4c79-a051-afe957772231",
   "metadata": {},
   "outputs": [
    {
     "data": {
      "text/plain": [
       "MatrixVectorOperations (generic function with 1 method)"
      ]
     },
     "execution_count": 25,
     "metadata": {},
     "output_type": "execute_result"
    }
   ],
   "source": [
    "function ArithmeticOperators(a, b)\n",
    "    println(\"a = $a и b = $b\")\n",
    "    println(\"Сумма: \", a + b)\n",
    "    println(\"Вычитание: \", a - b)\n",
    "    println(\"Умножение: \", a * b)\n",
    "    println(\"Деление a на b: \", a / b)\n",
    "    println(\"Деление b на a: \", a \\ b)\n",
    "    println(\"Целочисленное деление: \", a ÷ b)\n",
    "    println(\"Возведение a в b: \", a ^ b)\n",
    "    println(\"Остаток от деления a на b: \", a % b)\n",
    "end\n",
    "\n",
    "function NumericBitwiseComparisons(a, b)\n",
    "    println(\"a = $a и b = $b\")\n",
    "    println(\"Ровны ли? \", a == b)\n",
    "    println(\"Не ровны ли? \", a != b)\n",
    "    println(\"a больше b? \", a > b)\n",
    "    println(\"a больше или ровно b? \", a >= b)\n",
    "    println(\"a меньше b? \", a < b)\n",
    "    println(\"a меньше или ровно b? \", a <= b)\n",
    "    println(\"логическое и: \", a & b)\n",
    "    println(\"логическое или: \", a | b)\n",
    "    println(\"логическое xor: \", a ⊻ b)\n",
    "    println(\"логическое нет и: \", a ⊼ b)\n",
    "    println(\"логическое нет или: \", a ⊽ b)\n",
    "end\n",
    "\n",
    "function MatrixVectorOperations(a, b)\n",
    "    println(\"a = $a\\nb = $b\")\n",
    "    println(\"Сумма:\\n\", a .+ b)\n",
    "    println(\"Вычитание:\\n\", a .- b)\n",
    "    println(\"Умножение:\\n\", a .* b)\n",
    "    println(\"Деление a на b:\\n\", a ./ b)\n",
    "    println(\"Деление b на a:\\n\", a .\\ b)\n",
    "    println(\"Целочисленное деление:\\n\", a .÷ b)\n",
    "    println(\"Возведение a в b:\\n\", a .^ b)\n",
    "    println(\"Остаток от деления a на b:\\n\", a .% b)\n",
    "end"
   ]
  },
  {
   "cell_type": "code",
   "execution_count": 26,
   "id": "4817c130-1f54-4b2e-9ec5-888c3459ef93",
   "metadata": {},
   "outputs": [
    {
     "name": "stdout",
     "output_type": "stream",
     "text": [
      "a = 4 и b = 8\n",
      "Сумма: 12\n",
      "Вычитание: -4\n",
      "Умножение: 32\n",
      "Деление a на b: 0.5\n",
      "Деление b на a: 2.0\n",
      "Целочисленное деление: 0\n",
      "Возведение a в b: 65536\n",
      "Остаток от деления a на b: 4\n",
      "a = 1 и b = 7\n",
      "Ровны ли? false\n",
      "Не ровны ли? true\n",
      "a больше b? false\n",
      "a больше или ровно b? false\n",
      "a меньше b? true\n",
      "a меньше или ровно b? true\n",
      "логическое и: 1\n",
      "логическое или: 7\n",
      "логическое xor: 6\n",
      "логическое нет и: -2\n",
      "логическое нет или: -8\n"
     ]
    }
   ],
   "source": [
    "ArithmeticOperators(rand(1:9), rand(1:9))\n",
    "NumericBitwiseComparisons(rand(1:9), rand(1:9))"
   ]
  },
  {
   "cell_type": "code",
   "execution_count": 16,
   "id": "26525d4d-dfa0-46d7-b373-8bf0ebec5982",
   "metadata": {},
   "outputs": [
    {
     "name": "stdout",
     "output_type": "stream",
     "text": [
      "a = [1.0 18.0 15.0; 10.0 14.0 9.0; 19.0 2.0 11.0]\n",
      "b = [7.0 3.0 9.0; 8.0 8.0 7.0; 4.0 5.0 5.0]\n",
      "Сумма:\n",
      "[8.0 21.0 24.0; 18.0 22.0 16.0; 23.0 7.0 16.0]\n",
      "Вычитание:\n",
      "[-6.0 15.0 6.0; 2.0 6.0 2.0; 15.0 -3.0 6.0]\n",
      "Умножение:\n",
      "[7.0 54.0 135.0; 80.0 112.0 63.0; 76.0 10.0 55.0]\n",
      "Деление a на b:\n",
      "[0.14285714285714285 6.0 1.6666666666666667; 1.25 1.75 1.2857142857142858; 4.75 0.4 2.2]\n",
      "Деление b на a:\n",
      "[7.0 0.16666666666666666 0.6; 0.8 0.5714285714285714 0.7777777777777778; 0.21052631578947367 2.5 0.45454545454545453]\n",
      "Целочисленное деление:\n",
      "[0.0 6.0 1.0; 1.0 1.0 1.0; 4.0 0.0 2.0]\n",
      "Возведение a в b:\n",
      "[1.0 5832.0 3.8443359375e10; 1.0e8 1.475789056e9 4.782969e6; 130321.0 32.0 161051.0]\n",
      "Остаток от деления a на b:\n",
      "[1.0 0.0 6.0; 2.0 6.0 2.0; 3.0 2.0 1.0]\n"
     ]
    }
   ],
   "source": [
    "MatrixVectorOperations(massive1, massive2)"
   ]
  },
  {
   "cell_type": "code",
   "execution_count": 17,
   "id": "de65f67a-6d20-4f23-9eb6-5a54f8b34aeb",
   "metadata": {},
   "outputs": [
    {
     "name": "stdout",
     "output_type": "stream",
     "text": [
      "a = [5, 5, 7, 9, 8, 4, 7, 9, 8, 9]\n",
      "b = [9, 3, 9, 2, 6, 2, 4, 8, 1, 2]\n",
      "Сумма:\n",
      "[14, 8, 16, 11, 14, 6, 11, 17, 9, 11]\n",
      "Вычитание:\n",
      "[-4, 2, -2, 7, 2, 2, 3, 1, 7, 7]\n",
      "Умножение:\n",
      "[45, 15, 63, 18, 48, 8, 28, 72, 8, 18]\n",
      "Деление a на b:\n",
      "[0.5555555555555556, 1.6666666666666667, 0.7777777777777778, 4.5, 1.3333333333333333, 2.0, 1.75, 1.125, 8.0, 4.5]\n",
      "Деление b на a:\n",
      "[1.8, 0.6, 1.2857142857142858, 0.2222222222222222, 0.75, 0.5, 0.5714285714285714, 0.8888888888888888, 0.125, 0.2222222222222222]\n",
      "Целочисленное деление:\n",
      "[0, 1, 0, 4, 1, 2, 1, 1, 8, 4]\n",
      "Возведение a в b:\n",
      "[1953125, 125, 40353607, 81, 262144, 16, 2401, 43046721, 8, 81]\n",
      "Остаток от деления a на b:\n",
      "[5, 2, 7, 1, 2, 0, 3, 1, 0, 1]\n"
     ]
    }
   ],
   "source": [
    "MatrixVectorOperations(rand(1:9, 10), rand(1:9, 10))"
   ]
  },
  {
   "cell_type": "code",
   "execution_count": null,
   "id": "d85c2b67-dc88-4d59-893a-8940a02c214c",
   "metadata": {},
   "outputs": [],
   "source": []
  }
 ],
 "metadata": {
  "kernelspec": {
   "display_name": "Julia 1.9.3",
   "language": "julia",
   "name": "julia-1.9"
  },
  "language_info": {
   "file_extension": ".jl",
   "mimetype": "application/julia",
   "name": "julia",
   "version": "1.9.3"
  }
 },
 "nbformat": 4,
 "nbformat_minor": 5
}
